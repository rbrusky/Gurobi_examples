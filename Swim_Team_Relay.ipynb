{
 "cells": [
  {
   "cell_type": "markdown",
   "metadata": {
    "collapsed": true
   },
   "source": [
    "!['Relay_Problem'](Relay_Problem.png)"
   ]
  },
  {
   "cell_type": "markdown",
   "metadata": {},
   "source": [
    "!['Notes Page 1'](page_1.png)"
   ]
  },
  {
   "cell_type": "markdown",
   "metadata": {
    "collapsed": true
   },
   "source": [
    "!['Notes Page 2'](page_2.png)"
   ]
  },
  {
   "cell_type": "markdown",
   "metadata": {},
   "source": [
    "!['Notes Page 3'](page_3.png)"
   ]
  },
  {
   "cell_type": "markdown",
   "metadata": {},
   "source": [
    "!['Notes Page 4'](page_4.png)"
   ]
  },
  {
   "cell_type": "markdown",
   "metadata": {},
   "source": [
    "!['Notes Page 5'](page_5.png)"
   ]
  },
  {
   "cell_type": "markdown",
   "metadata": {},
   "source": [
    "!['Notes Page 6'](page_6.png)"
   ]
  },
  {
   "cell_type": "markdown",
   "metadata": {},
   "source": [
    "# Imports"
   ]
  },
  {
   "cell_type": "code",
   "execution_count": null,
   "metadata": {
    "collapsed": true
   },
   "outputs": [],
   "source": [
    "from __future__ import print_function\n",
    "from gurobipy import *"
   ]
  },
  {
   "cell_type": "markdown",
   "metadata": {},
   "source": [
    "# Define Print Functions"
   ]
  },
  {
   "cell_type": "code",
   "execution_count": null,
   "metadata": {
    "collapsed": false
   },
   "outputs": [],
   "source": [
    "def print_data():\n",
    "    print('          ',end = '')\n",
    "    for swimmer in swimmers:\n",
    "        print('{:8}'.format(swimmer),end = '')\n",
    "    print()\n",
    "    for stroke in range(len(strokes)):\n",
    "        print('{:10}'.format(strokes[stroke]),end = '')\n",
    "        for swimmer in range(len(swimmers)):\n",
    "            print (cost[(stroke,swimmer)],'   ',end = '')\n",
    "        print()"
   ]
  },
  {
   "cell_type": "code",
   "execution_count": null,
   "metadata": {
    "collapsed": false
   },
   "outputs": [],
   "source": [
    "def print_data_result():\n",
    "    print('          ',end = '')\n",
    "    for swimmer in swimmers:\n",
    "        print('{:8}'.format(swimmer),end = '')\n",
    "    stroke_before = None\n",
    "    for v in m.getVars():\n",
    "        \n",
    "            stroke = int(v.VarName[1])\n",
    "            swimmer = int(v.VarName[2])\n",
    "            if stroke_before != stroke:\n",
    "                print()\n",
    "                print('{:8}'.format(strokes[stroke]),end = '')\n",
    "            stroke_before = stroke\n",
    "            if v.X > 0:\n",
    "                print(' [',end = '')\n",
    "            else:\n",
    "                print('  ',end = '')\n",
    "            print(cost[(stroke,swimmer)],end = '')\n",
    "            if v.X > 0:\n",
    "                print('] ',end = '')\n",
    "            else:\n",
    "                print('  ',end = '')        \n",
    "    print('\\n\\nFor a total:',m.objVal,'seconds')"
   ]
  },
  {
   "cell_type": "markdown",
   "metadata": {},
   "source": [
    "# Input the Data"
   ]
  },
  {
   "cell_type": "markdown",
   "metadata": {},
   "source": [
    "!['Relay_Problem_Data'](Relay_Problem_Data.png)"
   ]
  },
  {
   "cell_type": "code",
   "execution_count": null,
   "metadata": {
    "collapsed": true
   },
   "outputs": [],
   "source": [
    "strokes = ['Back','Breast','Fly','Free']\n",
    "swimmers = ['Carl','Chris','David','Tony','Ken']\n",
    "cost = {(0,0):37.7,(0,1):32.9,(0,2):33.8,(0,3):37.0,(0,4):35.4,\n",
    "        (1,0):43.4,(1,1):33.1,(1,2):42.2,(1,3):34.7,(1,4):41.8,\n",
    "        (2,0):33.3,(2,1):28.5,(2,2):38.9,(2,3):30.4,(2,4):33.6,\n",
    "        (3,0):29.2,(3,1):26.4,(3,2):29.6,(3,3):28.5,(3,4):31.1}"
   ]
  },
  {
   "cell_type": "code",
   "execution_count": null,
   "metadata": {
    "collapsed": false
   },
   "outputs": [],
   "source": []
  },
  {
   "cell_type": "markdown",
   "metadata": {},
   "source": [
    "# Review Data"
   ]
  },
  {
   "cell_type": "code",
   "execution_count": null,
   "metadata": {
    "collapsed": false
   },
   "outputs": [],
   "source": [
    "print_data()"
   ]
  },
  {
   "cell_type": "markdown",
   "metadata": {},
   "source": [
    "# Create Optimization Model"
   ]
  },
  {
   "cell_type": "code",
   "execution_count": null,
   "metadata": {
    "collapsed": false
   },
   "outputs": [],
   "source": [
    "detail = False\n",
    "\n",
    "m = Model('Relay')\n",
    "m.setParam('OutputFlag', detail)"
   ]
  },
  {
   "cell_type": "markdown",
   "metadata": {},
   "source": [
    "# Define the Variables "
   ]
  },
  {
   "cell_type": "markdown",
   "metadata": {},
   "source": [
    "### x(i,j) = { 1,  if stroke i is assigned to swimmer j;  0,  otherwise}\n",
    "### where i is an element of strokes {0,1,2,3)\n",
    "### and     j is an element of swimmers {0,1,2,3,4}"
   ]
  },
  {
   "cell_type": "code",
   "execution_count": null,
   "metadata": {
    "collapsed": false
   },
   "outputs": [],
   "source": [
    "x = {}\n",
    "for i in range(len(strokes)):\n",
    "    for j in range(len(swimmers)):\n",
    "        x[i,j] = m.addVar(obj=cost[(i,j)],vtype=GRB.BINARY, name='x%d%d' % (i,j))\n",
    "m.update()"
   ]
  },
  {
   "cell_type": "code",
   "execution_count": null,
   "metadata": {
    "collapsed": false
   },
   "outputs": [],
   "source": [
    "x"
   ]
  },
  {
   "cell_type": "markdown",
   "metadata": {},
   "source": [
    "# Set up constraints"
   ]
  },
  {
   "cell_type": "markdown",
   "metadata": {},
   "source": [
    "## One and Only One Swimmer Must be Assigned to Each Stroke"
   ]
  },
  {
   "cell_type": "code",
   "execution_count": null,
   "metadata": {
    "collapsed": false
   },
   "outputs": [],
   "source": [
    "# For each strokes (i) one at a time, the sum of the swimmers(j) must be exactly one\n",
    "\n",
    "for i in range(len(strokes)):\n",
    "   m.addConstr(quicksum([x[i,j] for j in range(len(swimmers))]) == 1, 'stroke%d' % (i))"
   ]
  },
  {
   "cell_type": "markdown",
   "metadata": {},
   "source": [
    "  ## A Swimmer Can Not Swim More Than Once"
   ]
  },
  {
   "cell_type": "code",
   "execution_count": null,
   "metadata": {
    "collapsed": false
   },
   "outputs": [],
   "source": [
    "# For each swimmer (j) one at a time, the sum of strokes (i) must not be more than one\n",
    "\n",
    "for j in range(len(swimmers)):\n",
    "   m.addConstr(quicksum([x[i,j] for i in range(len(strokes))]) <= 1,  'swimmer%d' % (j))"
   ]
  },
  {
   "cell_type": "markdown",
   "metadata": {},
   "source": [
    "# Call Optimize"
   ]
  },
  {
   "cell_type": "code",
   "execution_count": null,
   "metadata": {
    "collapsed": false
   },
   "outputs": [],
   "source": [
    "m.optimize()"
   ]
  },
  {
   "cell_type": "markdown",
   "metadata": {},
   "source": [
    "# Look at the LP (Linear Program)"
   ]
  },
  {
   "cell_type": "code",
   "execution_count": null,
   "metadata": {
    "collapsed": false
   },
   "outputs": [],
   "source": [
    " m.write('relay.lp')"
   ]
  },
  {
   "cell_type": "markdown",
   "metadata": {},
   "source": [
    "# Get the Solution"
   ]
  },
  {
   "cell_type": "code",
   "execution_count": null,
   "metadata": {
    "collapsed": false
   },
   "outputs": [],
   "source": [
    "m.objVal"
   ]
  },
  {
   "cell_type": "code",
   "execution_count": null,
   "metadata": {
    "collapsed": false
   },
   "outputs": [],
   "source": [
    "m.getVars()"
   ]
  },
  {
   "cell_type": "code",
   "execution_count": null,
   "metadata": {
    "collapsed": false
   },
   "outputs": [],
   "source": [
    "if m.status == GRB.status.OPTIMAL:\n",
    "    for v in m.getVars():\n",
    "        if v.X == 1:\n",
    "            stroke = int(v.VarName[1])\n",
    "            swimmer = int(v.VarName[2])\n",
    "            print('{:8}'.format(strokes[stroke]+':'),\n",
    "                  '{:8}'.format(swimmers[swimmer]),\n",
    "                  cost[(stroke,swimmer)])\n",
    "    print('{:16}'.format(''),'-----\\n','{:15}'.format(''),m.objVal)\n",
    "else:\n",
    "    print('Bummer ',m.status)\n"
   ]
  },
  {
   "cell_type": "code",
   "execution_count": null,
   "metadata": {
    "collapsed": false
   },
   "outputs": [],
   "source": [
    "print_data_result()"
   ]
  }
 ],
 "metadata": {
  "kernelspec": {
   "display_name": "Python 2",
   "language": "python",
   "name": "python2"
  },
  "language_info": {
   "codemirror_mode": {
    "name": "ipython",
    "version": 2
   },
   "file_extension": ".py",
   "mimetype": "text/x-python",
   "name": "python",
   "nbconvert_exporter": "python",
   "pygments_lexer": "ipython2",
   "version": "2.7.12"
  }
 },
 "nbformat": 4,
 "nbformat_minor": 0
}
